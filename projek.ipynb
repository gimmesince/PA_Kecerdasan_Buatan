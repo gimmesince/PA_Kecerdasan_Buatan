{
 "cells": [
  {
   "cell_type": "markdown",
   "id": "e7c6bfa6-8c6d-4808-9bb3-8efd8c8b9fcb",
   "metadata": {},
   "source": [
    "# Import Library"
   ]
  },
  {
   "cell_type": "code",
   "execution_count": 1,
   "id": "9e48f0c5-bb06-4529-b90c-c3e8a7e890bd",
   "metadata": {},
   "outputs": [],
   "source": [
    "import os\n",
    "import shutil\n",
    "import matplotlib.pyplot as plt\n",
    "import numpy as np\n",
    "from sklearn.model_selection import train_test_split\n",
    "import PIL\n",
    "import pathlib\n",
    "from keras_preprocessing.image import ImageDataGenerator"
   ]
  },
  {
   "cell_type": "code",
   "execution_count": 2,
   "id": "3941fcef-c076-45ef-b347-834550ea0b7f",
   "metadata": {},
   "outputs": [],
   "source": [
    "path = r\"C:\\Users\\Asus\\Downloads\\Compressed\\data\"\n",
    "data_dir = pathlib.Path(path)"
   ]
  },
  {
   "cell_type": "code",
   "execution_count": 3,
   "id": "d27de84e-ab5d-418b-bc0c-9d000a427344",
   "metadata": {},
   "outputs": [
    {
     "data": {
      "image/png": "[encoded data removed]",
      "text/plain": [
       "<PIL.PngImagePlugin.PngImageFile image mode=RGB size=64x64 at 0x230A6810100>"
      ]
     },
     "execution_count": 3,
     "metadata": {},
     "output_type": "execute_result"
    }
   ],
   "source": [
    "vehicle = list(data_dir.glob('vehicles/*'))\n",
    "PIL.Image.open(str(vehicle[0]))"
   ]
  },
  {
   "cell_type": "code",
   "execution_count": 4,
   "id": "9367278b-aeb9-4143-b640-25d2cde60bc7",
   "metadata": {},
   "outputs": [
    {
     "data": {
      "image/png": "[encoded data removed]",
      "text/plain": [
       "<PIL.PngImagePlugin.PngImageFile image mode=RGB size=64x64 at 0x2308765DD90>"
      ]
     },
     "execution_count": 4,
     "metadata": {},
     "output_type": "execute_result"
    }
   ],
   "source": [
    "novehicle = list(data_dir.glob('non-vehicles/*'))\n",
    "PIL.Image.open(str(novehicle[0]))"
   ]
  },
  {
   "cell_type": "markdown",
   "id": "36cc132c-400b-401b-8a20-0f5caf0ce726",
   "metadata": {},
   "source": [
    "## Splitting Data"
   ]
  },
  {
   "cell_type": "code",
   "execution_count": 5,
   "id": "3de2174b-6d09-4cbf-b4d5-82075b27bd2f",
   "metadata": {},
   "outputs": [],
   "source": [
    "vehicle_dir = r\"C:\\Users\\Asus\\Downloads\\Compressed\\data\\vehicles\"\n",
    "non_vehicle_dir = r\"C:\\Users\\Asus\\Downloads\\Compressed\\data\\non-vehicles\""
   ]
  },
  {
   "cell_type": "code",
   "execution_count": 6,
   "id": "634eb777-291e-469f-b3af-c6950efdef61",
   "metadata": {},
   "outputs": [],
   "source": [
    "vehicle_dir_name = os.listdir(vehicle_dir)\n",
    "non_vehicle_dir_name = os.listdir(non_vehicle_dir)"
   ]
  },
  {
   "cell_type": "code",
   "execution_count": 7,
   "id": "457419ab-27f7-45fd-a670-0187ce75bd4b",
   "metadata": {},
   "outputs": [
    {
     "name": "stdout",
     "output_type": "stream",
     "text": [
      "TOTAL NO. OF VEHICLE IMAGES: 8792\n",
      "TOTAL NO. OF NON-VEHICLE IMAGES: 8968\n"
     ]
    }
   ],
   "source": [
    "print('TOTAL NO. OF VEHICLE IMAGES:', len(vehicle_dir_name))\n",
    "print('TOTAL NO. OF NON-VEHICLE IMAGES:', len(non_vehicle_dir_name))"
   ]
  },
  {
   "cell_type": "code",
   "execution_count": 8,
   "id": "9f3d1d8a-c65f-4393-a3c5-bfb69fb925dd",
   "metadata": {},
   "outputs": [],
   "source": [
    "os.makedirs('./output')"
   ]
  },
  {
   "cell_type": "code",
   "execution_count": 9,
   "id": "22ec360f-3543-4725-858e-738c5c67aff9",
   "metadata": {},
   "outputs": [],
   "source": [
    "dir = './output/'\n",
    "train_dir = os.path.join(dir, 'train')\n",
    "val_dir =os.path.join(dir, 'validation')\n",
    "test_dir = os.path.join(dir, 'test')\n",
    "vehicle_train_dir = os.path.join(train_dir, 'vehicles')\n",
    "non_vehicle_train_dir = os.path.join(train_dir, 'non-vehicles')\n",
    "vehicle_val_dir = os.path.join(val_dir, 'vehicles')\n",
    "non_vehicle_val_dir = os.path.join(val_dir, 'non-vehicles')\n",
    "vehicle_test_dir = os.path.join(test_dir, 'vehicles')\n",
    "non_vehicle_test_dir = os.path.join(test_dir, 'non-vehicles')"
   ]
  },
  {
   "cell_type": "code",
   "execution_count": 10,
   "id": "33858292-5115-40ed-b79e-9d6ad05686a1",
   "metadata": {},
   "outputs": [],
   "source": [
    "train_size =0.7\n",
    "test_size = 0.3"
   ]
  },
  {
   "cell_type": "code",
   "execution_count": 13,
   "id": "87905b92-8343-42cc-ae03-7bedcb3b8b5f",
   "metadata": {},
   "outputs": [],
   "source": [
    "train_vehicles,xtrain_rem= train_test_split(\n",
    "                        vehicle_dir_name, train_size=train_size, shuffle=True, random_state=1\n",
    "                    )\n",
    "valid_vehicles,test_vehicles = train_test_split(\n",
    "                        xtrain_rem, test_size=test_size, shuffle=True, random_state=1\n",
    "                    )\n",
    "train_non_vehicles,ytrain_rem =train_test_split(\n",
    "                        non_vehicle_dir_name, train_size=train_size, shuffle=True, random_state=1\n",
    "                    )\n",
    "valid_non_vehicles,test_non_vehicles = train_test_split(\n",
    "                        ytrain_rem, test_size=test_size, shuffle=True, random_state=1\n",
    "                    )"
   ]
  },
  {
   "cell_type": "code",
   "execution_count": 14,
   "id": "04e293af-1873-42fe-87ca-dd8d0d554161",
   "metadata": {},
   "outputs": [
    {
     "name": "stdout",
     "output_type": "stream",
     "text": [
      "TOTAL NO. OF TRAIN VEHICLE IMAGES: 6154\n",
      "TOTAL NO. OF TRAIN NON-VEHICLE IMAGES: 6277\n",
      "TOTAL NO. OF VALIDATION VEHICLE IMAGES: 1846\n",
      "TOTAL NO. OF VALIDATION NON-VEHICLE IMAGES: 1883\n",
      "TOTAL NO. OF TEST VEHICLE IMAGES: 792\n",
      "TOTAL NO. OF TEST NON-VEHICLE IMAGES: 808\n"
     ]
    }
   ],
   "source": [
    "print('TOTAL NO. OF TRAIN VEHICLE IMAGES:', len(train_vehicles))\n",
    "print('TOTAL NO. OF TRAIN NON-VEHICLE IMAGES:', len(train_non_vehicles))\n",
    "\n",
    "print('TOTAL NO. OF VALIDATION VEHICLE IMAGES:', len(valid_vehicles))\n",
    "print('TOTAL NO. OF VALIDATION NON-VEHICLE IMAGES:', len(valid_non_vehicles))\n",
    "\n",
    "print('TOTAL NO. OF TEST VEHICLE IMAGES:', len(test_vehicles))\n",
    "print('TOTAL NO. OF TEST NON-VEHICLE IMAGES:', len(test_non_vehicles))"
   ]
  },
  {
   "cell_type": "code",
   "execution_count": 15,
   "id": "c8a91d0f-0b40-4f2e-895e-8f4dafc00583",
   "metadata": {},
   "outputs": [],
   "source": [
    "def move_images(image_list, old_dir_path, new_dir_path):\n",
    "    if not os.path.exists(new_dir_path):\n",
    "        os.makedirs(new_dir_path)\n",
    "    \n",
    "    for file_name in image_list:\n",
    "        shutil.copy(\n",
    "            os.path.join(old_dir_path, file_name),\n",
    "            os.path.join(new_dir_path, file_name)\n",
    "        )\n",
    "    print(f'{len(image_list)} IMAGES COPIED TO {new_dir_path}')"
   ]
  },
  {
   "cell_type": "code",
   "execution_count": 16,
   "id": "d5fff450-b7da-4668-9a36-0e39e6bd6900",
   "metadata": {},
   "outputs": [
    {
     "name": "stdout",
     "output_type": "stream",
     "text": [
      "6154 IMAGES COPIED TO ./output/train\\vehicles\n",
      "6277 IMAGES COPIED TO ./output/train\\non-vehicles\n",
      "1846 IMAGES COPIED TO ./output/validation\\vehicles\n",
      "1883 IMAGES COPIED TO ./output/validation\\non-vehicles\n",
      "792 IMAGES COPIED TO ./output/test\\vehicles\n",
      "808 IMAGES COPIED TO ./output/test\\non-vehicles\n"
     ]
    }
   ],
   "source": [
    "move_images(train_vehicles, vehicle_dir, vehicle_train_dir)\n",
    "move_images(train_non_vehicles, non_vehicle_dir, non_vehicle_train_dir)\n",
    "\n",
    "move_images(valid_vehicles, vehicle_dir, vehicle_val_dir)\n",
    "move_images(valid_non_vehicles, non_vehicle_dir, non_vehicle_val_dir)\n",
    "\n",
    "move_images(test_vehicles, vehicle_dir, vehicle_test_dir)\n",
    "move_images(test_non_vehicles, non_vehicle_dir, non_vehicle_test_dir)"
   ]
  },
  {
   "cell_type": "markdown",
   "id": "91fb7b8b-d9a4-423b-9cef-77a8b8bda29a",
   "metadata": {},
   "source": []
  }
 ],
 "metadata": {
  "kernelspec": {
   "display_name": "Python 3 (ipykernel)",
   "language": "python",
   "name": "python3"
  },
  "language_info": {
   "codemirror_mode": {
    "name": "ipython",
    "version": 3
   },
   "file_extension": ".py",
   "mimetype": "text/x-python",
   "name": "python",
   "nbconvert_exporter": "python",
   "pygments_lexer": "ipython3",
   "version": "3.9.6"
  }
 },
 "nbformat": 4,
 "nbformat_minor": 5
}
